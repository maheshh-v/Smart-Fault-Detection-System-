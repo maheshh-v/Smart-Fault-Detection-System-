{
 "cells": [
  {
   "cell_type": "markdown",
   "metadata": {},
   "source": [
    "# Smart Fault Detection System for Electrical Transformers\n",
    "\n",
    "## Project Overview\n",
    "This notebook demonstrates an AI-powered predictive maintenance system for electrical transformers. The system analyzes sensor data to predict potential faults before they cause equipment failure, helping power companies reduce downtime and prevent costly equipment failures.\n",
    "\n",
    "**Business Impact:**\n",
    "- Early fault detection reduces unplanned downtime by up to 70%\n",
    "- Prevents expensive transformer failures (cost: $500K - $2M per unit)\n",
    "- Enables condition-based maintenance scheduling\n",
    "- Improves grid reliability and power quality\n",
    "\n",
    "**Technical Approach:**\n",
    "- Machine Learning Classification (Random Forest)\n",
    "- Multi-class prediction: Normal, Warning, Critical\n",
    "- Real-time sensor data analysis\n",
    "- Feature engineering for time-series patterns"
   ]
  },
  {
   "cell_type": "markdown",
   "metadata": {},
   "source": [
    "## 1. Import Libraries and Setup"
   ]
  },
  {
   "cell_type": "code",
   "execution_count": null,
   "metadata": {},
   "outputs": [],
   "source": [
    "# Data manipulation and analysis\n",
    "import pandas as pd\n",
    "import numpy as np\n",
    "from datetime import datetime, timedelta\n",
    "\n",
    "# Visualization libraries\n",
    "import matplotlib.pyplot as plt\n",
    "import seaborn as sns\n",
    "\n",
    "# Machine Learning\n",
    "from sklearn.model_selection import train_test_split\n",
    "from sklearn.ensemble import RandomForestClassifier\n",
    "from sklearn.linear_model import LogisticRegression\n",
    "from sklearn.preprocessing import StandardScaler, LabelEncoder\n",
    "from sklearn.metrics import (\n",
    "    classification_report, confusion_matrix, accuracy_score,\n",
    "    roc_auc_score, roc_curve, f1_score, precision_score, recall_score\n",
    ")\n",
    "\n",
    "# Model persistence\n",
    "import joblib\n",
    "import warnings\n",
    "warnings.filterwarnings('ignore')\n",
    "\n",
    "# Set style for better plots\n",
    "plt.style.use('default')\n",
    "sns.set_palette(\"husl\")\n",
    "\n",
    "print(\"✅ All libraries imported successfully!\")\n",
    "print(f\"📊 Analysis started at: {datetime.now().strftime('%Y-%m-%d %H:%M:%S')}\")"
   ]
  },
  {
   "cell_type": "markdown",
   "metadata": {},
   "source": [
    "## 2. Data Loading and Initial Exploration"
   ]
  },
  {
   "cell_type": "code",
   "execution_count": null,
   "metadata": {},
   "outputs": [],
   "source": [
    "# Load the transformer sensor data\n",
    "df = pd.read_csv('../data/transformer_sensor_data.csv')\n",
    "\n",
    "print(\"🔍 Dataset Overview:\")\n",
    "print(f\"Dataset shape: {df.shape}\")\n",
    "print(f\"Time period: {df['timestamp'].min()} to {df['timestamp'].max()}\")\n",
    "print(f\"\\n📈 Fault Status Distribution:\")\n",
    "print(df['fault_status'].value_counts())\n",
    "print(f\"\\n📊 Fault Status Percentages:\")\n",
    "print(df['fault_status'].value_counts(normalize=True) * 100)\n",
    "\n",
    "# Display first few rows\n",
    "print(\"\\n🔍 First 5 rows of the dataset:\")\n",
    "df.head()"
   ]
  },
  {
   "cell_type": "code",
   "execution_count": null,
   "metadata": {},
   "outputs": [],
   "source": [
    "# Data types and missing values\n",
    "print(\"📋 Data Info:\")\n",
    "print(df.info())\n",
    "print(\"\\n🔍 Missing Values:\")\n",
    "print(df.isnull().sum())\n",
    "print(\"\\n📊 Statistical Summary:\")\n",
    "df.describe()"
   ]
  }
 ],
 "metadata": {
  "kernelspec": {
   "display_name": "Python 3",
   "language": "python",
   "name": "python3"
  },
  "language_info": {
   "codemirror_mode": {
    "name": "ipython",
    "version": 3
   },
   "file_extension": ".py",
   "mimetype": "text/x-python",
   "name": "python",
   "nbconvert_exporter": "python",
   "pygments_lexer": "ipython3",
   "version": "3.8.5"
  }
 },
 "nbformat": 4,
 "nbformat_minor": 4
}
